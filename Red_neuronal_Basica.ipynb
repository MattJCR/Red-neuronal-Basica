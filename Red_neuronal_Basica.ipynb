{
  "nbformat": 4,
  "nbformat_minor": 0,
  "metadata": {
    "colab": {
      "provenance": [],
      "authorship_tag": "ABX9TyPAcrQXabGpzwomgcQtImue",
      "include_colab_link": true
    },
    "kernelspec": {
      "name": "python3",
      "display_name": "Python 3"
    },
    "language_info": {
      "name": "python"
    }
  },
  "cells": [
    {
      "cell_type": "markdown",
      "metadata": {
        "id": "view-in-github",
        "colab_type": "text"
      },
      "source": [
        "<a href=\"https://colab.research.google.com/github/MattJCR/Red-neuronal-Basica/blob/master/Red_neuronal_Basica.ipynb\" target=\"_parent\"><img src=\"https://colab.research.google.com/assets/colab-badge.svg\" alt=\"Open In Colab\"/></a>"
      ]
    },
    {
      "cell_type": "code",
      "execution_count": null,
      "metadata": {
        "id": "pekAohjRF_js"
      },
      "outputs": [],
      "source": [
        "import numpy as np\n",
        "from sklearn import datasets\n",
        "from sklearn.preprocessing import normalize\n",
        "from sklearn.model_selection import train_test_split\n",
        "from keras.utils import np_utils"
      ]
    },
    {
      "cell_type": "code",
      "source": [
        "class NetNode(object):\n",
        "  def __init__(self):\n",
        "    self.inputs = []\n",
        "    self.weights = []\n",
        "    self.value = None\n",
        "\n",
        "class Network(object):\n",
        "\n",
        "  def __init__(self, layers):\n",
        "\n",
        "    self.net = [[NetNode() for _ in range(size)] for size in layers]\n",
        "\n",
        "    sizes = len(layers)\n",
        "\n",
        "    for layer in range(1,sizes):\n",
        "      for node in self.net[layer]:\n",
        "        for unit in self.net[layer - 1]:\n",
        "          node.inputs.append(unit)\n",
        "          node.weights.append(0)\n",
        "  \n",
        "  def relu(self,z):\n",
        "    return max(0,z)\n",
        "\n",
        "  def relu_prime(self, z):\n",
        "    return 1 if z > 0 else 0\n",
        "\n",
        "  def backpropagation(self, eta, examples, epochs):\n",
        "        inputs = self.net[0]\n",
        "        outputs = self.net[-1]\n",
        "        layer_size = len(self.net)\n",
        "        for layer in self.net[1:]:\n",
        "            for node in layer:\n",
        "                node.weights = [np.random.uniform() for _ in range(len(node.weights))]\n",
        "        for epoch in range(epochs):\n",
        "            for x_train, y_train in examples:\n",
        "                for value, node in zip(x_train, inputs):\n",
        "                    node.value = value\n",
        "                for layer in self.net[1:]:\n",
        "                    for node in layer:\n",
        "                        in_val = [n.value for n in node.inputs]\n",
        "                        unit_value = np.dot(in_val, node.weights)\n",
        "                        node.value = self.relu(unit_value)\n",
        "                delta = [[] for _ in range(layer_size)]\n",
        "                err = [y_train[i] - outputs[i].value for i in range(len(outputs))]\n",
        "                delta[-1] = [self.relu_prime(outputs[i].value) * err[i] for i in range(len(outputs))]\n",
        "                hidden_layers = layer_size - 2\n",
        "                for i in range(hidden_layers, 0, -1):\n",
        "                    layer = self.net[i]\n",
        "                    n_layers = len(layer)\n",
        "                    w = [[node.weights[l] for node in self.net[i + 1]] for l in range(n_layers)]\n",
        "                    delta[i] = [self.relu_prime(layer[j].value) * np.dot(w[j], delta[i + 1]) for j in range(n_layers)]\n",
        "                for i in range(1, layer_size):\n",
        "                    layer = self.net[i]\n",
        "                    in_val = [node.value for node in self.net[i - 1]]\n",
        "                    n_layers = len(self.net[i])\n",
        "                    for j in range(n_layers):\n",
        "                        layer[j].weights = np.add(layer[j].weights, np.multiply(eta * delta[i][j], in_val))\n",
        "            # print(f\"epoch {epoch}/{epochs} | total error={np.sum(err)/len(examples)}\")\n",
        "    \n",
        "  def predict(self,input_data):\n",
        "    inputs = self.net[0]\n",
        "\n",
        "    for v, n in zip(input_data, inputs):\n",
        "      n.value = v\n",
        "\n",
        "    for layer in self.net[1:]:\n",
        "      for node in layer:\n",
        "        in_val = [n.value for n in node.inputs]\n",
        "        unit_value = np.dot(in_val, node.weights)\n",
        "        node.value = self.relu(unit_value)\n",
        "    \n",
        "    outputs = self.net[-1]\n",
        "    return outputs.index(max(outputs, key=lambda node: node.value))\n",
        "\n",
        "  def accuracy(self, examples):\n",
        "    correct = 0\n",
        "    for x_test, y_test in examples:\n",
        "      prediction = self.predict(x_test)\n",
        "\n",
        "      if(y_test[prediction] == 1):\n",
        "        correct += 1\n",
        "    return correct / len(examples)"
      ],
      "metadata": {
        "id": "UgYrLHTQJLKK"
      },
      "execution_count": null,
      "outputs": []
    },
    {
      "cell_type": "code",
      "source": [
        "iris_X,iris_y = datasets.load_iris(return_X_y = True)"
      ],
      "metadata": {
        "id": "7LEu41M7bu9U"
      },
      "execution_count": null,
      "outputs": []
    },
    {
      "cell_type": "code",
      "source": [
        "iris_X[:10]"
      ],
      "metadata": {
        "colab": {
          "base_uri": "https://localhost:8080/"
        },
        "id": "j8z3ZjeEdASn",
        "outputId": "adb99ccf-996a-49cc-87ab-b37c1b5f9bdc"
      },
      "execution_count": null,
      "outputs": [
        {
          "output_type": "execute_result",
          "data": {
            "text/plain": [
              "array([[5.1, 3.5, 1.4, 0.2],\n",
              "       [4.9, 3. , 1.4, 0.2],\n",
              "       [4.7, 3.2, 1.3, 0.2],\n",
              "       [4.6, 3.1, 1.5, 0.2],\n",
              "       [5. , 3.6, 1.4, 0.2],\n",
              "       [5.4, 3.9, 1.7, 0.4],\n",
              "       [4.6, 3.4, 1.4, 0.3],\n",
              "       [5. , 3.4, 1.5, 0.2],\n",
              "       [4.4, 2.9, 1.4, 0.2],\n",
              "       [4.9, 3.1, 1.5, 0.1]])"
            ]
          },
          "metadata": {},
          "execution_count": 15
        }
      ]
    },
    {
      "cell_type": "code",
      "source": [
        "iris_y[:10]"
      ],
      "metadata": {
        "colab": {
          "base_uri": "https://localhost:8080/"
        },
        "id": "FxH5a1R_dDGs",
        "outputId": "05c94d80-8513-48e6-b1e1-f8bb1dfdd221"
      },
      "execution_count": null,
      "outputs": [
        {
          "output_type": "execute_result",
          "data": {
            "text/plain": [
              "array([0, 0, 0, 0, 0, 0, 0, 0, 0, 0])"
            ]
          },
          "metadata": {},
          "execution_count": 16
        }
      ]
    },
    {
      "cell_type": "code",
      "source": [
        "iris_x_normalized = normalize(iris_X,axis=0)\n",
        "iris_x_normalized[:10]"
      ],
      "metadata": {
        "colab": {
          "base_uri": "https://localhost:8080/"
        },
        "id": "-rD-r1gYdK6t",
        "outputId": "3394bc05-ab90-4a45-be8d-b84b7b50ea34"
      },
      "execution_count": null,
      "outputs": [
        {
          "output_type": "execute_result",
          "data": {
            "text/plain": [
              "array([[0.07056264, 0.09254209, 0.02754801, 0.01150242],\n",
              "       [0.06779548, 0.07932179, 0.02754801, 0.01150242],\n",
              "       [0.06502832, 0.08460991, 0.02558029, 0.01150242],\n",
              "       [0.06364474, 0.08196585, 0.02951572, 0.01150242],\n",
              "       [0.06917906, 0.09518615, 0.02754801, 0.01150242],\n",
              "       [0.07471338, 0.10311833, 0.03345115, 0.02300485],\n",
              "       [0.06364474, 0.08989803, 0.02754801, 0.01725364],\n",
              "       [0.06917906, 0.08989803, 0.02951572, 0.01150242],\n",
              "       [0.06087757, 0.07667773, 0.02754801, 0.01150242],\n",
              "       [0.06779548, 0.08196585, 0.02951572, 0.00575121]])"
            ]
          },
          "metadata": {},
          "execution_count": 17
        }
      ]
    },
    {
      "cell_type": "code",
      "source": [
        "X_train, X_test, y_train, y_test = train_test_split(iris_x_normalized,iris_y,test_size=0.2, shuffle=True)"
      ],
      "metadata": {
        "id": "XLrdJ6ezdkxd"
      },
      "execution_count": null,
      "outputs": []
    },
    {
      "cell_type": "code",
      "source": [
        "y_train = np_utils.to_categorical(y_train,num_classes=3)\n",
        "y_test = np_utils.to_categorical(y_test,num_classes=3)"
      ],
      "metadata": {
        "id": "Qk-FaEbOd542"
      },
      "execution_count": null,
      "outputs": []
    },
    {
      "cell_type": "code",
      "source": [
        "examples = []\n",
        "for i in range(len(X_train)):\n",
        "  examples.append([X_train[i],y_train[i]])"
      ],
      "metadata": {
        "id": "anJvHhgIeLzx"
      },
      "execution_count": null,
      "outputs": []
    },
    {
      "cell_type": "code",
      "source": [
        "net = Network([4,7,3])"
      ],
      "metadata": {
        "id": "xdbXxO8Xi2VL"
      },
      "execution_count": null,
      "outputs": []
    },
    {
      "cell_type": "code",
      "source": [
        "net.backpropagation(0.03,examples,100)"
      ],
      "metadata": {
        "id": "Qkz50qAUi_GU"
      },
      "execution_count": null,
      "outputs": []
    },
    {
      "cell_type": "code",
      "source": [
        "examples = []\n",
        "for i in range(len(X_test)):\n",
        "  examples.append([X_test[i],y_test[i]])"
      ],
      "metadata": {
        "id": "wB5A0luOu6aT"
      },
      "execution_count": null,
      "outputs": []
    },
    {
      "cell_type": "code",
      "source": [
        "prediction = net.predict(X_test[0])\n",
        "accuracy = net.accuracy(examples)\n",
        "\n",
        "print(f\"Accuracy:  {accuracy}\")\n",
        "print(f\"Desired output:  {y_test[0]}\")\n",
        "print(f\"Index of output:  {prediction}\")"
      ],
      "metadata": {
        "colab": {
          "base_uri": "https://localhost:8080/"
        },
        "id": "se7xehB4jOFn",
        "outputId": "07d62944-d394-425d-cda3-4f0fa19b4497"
      },
      "execution_count": null,
      "outputs": [
        {
          "output_type": "stream",
          "name": "stdout",
          "text": [
            "Accuracy:  1.0\n",
            "Desired output:  [0. 1. 0.]\n",
            "Index of output:  1\n"
          ]
        }
      ]
    }
  ]
}