{
  "nbformat": 4,
  "nbformat_minor": 0,
  "metadata": {
    "colab": {
      "provenance": [],
      "authorship_tag": "ABX9TyOgkZZaCKCtp4cs4akdUOFJ",
      "include_colab_link": true
    },
    "kernelspec": {
      "name": "python3",
      "display_name": "Python 3"
    },
    "language_info": {
      "name": "python"
    }
  },
  "cells": [
    {
      "cell_type": "markdown",
      "metadata": {
        "id": "view-in-github",
        "colab_type": "text"
      },
      "source": [
        "<a href=\"https://colab.research.google.com/github/MattJCR/Red-neuronal-Basica/blob/master/Red_neuronal_Basica.ipynb\" target=\"_parent\"><img src=\"https://colab.research.google.com/assets/colab-badge.svg\" alt=\"Open In Colab\"/></a>"
      ]
    },
    {
      "cell_type": "code",
      "execution_count": null,
      "metadata": {
        "id": "pekAohjRF_js"
      },
      "outputs": [],
      "source": [
        "import numpy as np\n",
        "from sklearn import datasets\n",
        "from sklearn.preprocessing import normalize\n",
        "from sklearn.model_selection import train_test_split\n",
        "from keras.utils import np_utils"
      ]
    },
    {
      "cell_type": "markdown",
      "source": [
        "## Modificación de la implementación de la red neuronal\n",
        "\n",
        "* Agrega el método weigths() a la clase Network, de tal forma que permita obtener los pesos de las neuronas\n",
        "\n",
        "* Agrega el método set_weights() a la clase Network, de tal forma que permite definir los pesos de las neuronas\n",
        "     \n",
        "\n",
        "* Agrega los métodos sigmoide() y sigmoide_prime() a la clase Network\n",
        "\n",
        "* Modifica la clase Network, para que se pueda decidir qué función de activación utilizar: relu() o sigmoide()\n",
        "     \n",
        "\n",
        "* Los métodos predict() y accuracy() de la clase Network están implementados para resolver problemas de clasificación\n",
        "\n",
        "* Modifícalos de tal manera que también se puedan utilizar con problemas de regresión\n",
        "     \n",
        "\n",
        "* Modifica el método backpropagation() de tal manera que devuelva como resultado el array de valores de los nodos durante las épocas de entrenamiento\n",
        "     \n",
        "\n",
        "* Una vez implementados los cambios, entrena la red neuronal del ejemplo de los apuntes\n",
        "```\n",
        "examples = []\n",
        "examples.append([[0.5, 0.67, 0.5], [0.25, 0.6]])\n",
        "```\n",
        "\n",
        "* Ejecuta la red neuronal para los datos de ejemplo de los apuntes\n",
        "\n",
        "* Comprueba los valores de los nodos y de los pesos\n",
        "\n",
        "* Los valores de los nodos tienen que ser los mismos que los de los apuntes\n",
        "\n",
        "* Los valores de los pesos son ligeramente diferentes, ¿por qué?\n",
        "\n",
        "```\n",
        "net = Network([3, 4, 2])\n",
        "\n",
        "net.set_weights([0.1, 0.2, 0.3, 0.4, 0.5, 0.6])\n",
        "```\n",
        "\n",
        "o\n",
        "\n",
        "```\n",
        "net.set_weights([[0.1, 0.1, 0.1], [0.2, 0.2, 0.2], [0.3, 0.3, 0.3], [0.4, 0.4, 0.4], [0.5, 0.5, 0.5, 0.5], [0.6, 0.6, 0.6, 0.6]])\n",
        "\n",
        "valores_nodos = net.backpropagation(0.9, examples, 1)\n",
        "\n",
        "print(valores_nodos)\n",
        "net.weights()\n",
        "```"
      ],
      "metadata": {
        "id": "qiGTtzO9VnJK"
      }
    },
    {
      "cell_type": "code",
      "source": [
        "class NetNode(object):\n",
        "  def __init__(self):\n",
        "    self.inputs = []\n",
        "    self.weights = []\n",
        "    self.value = None\n",
        "\n",
        "class Network(object):\n",
        "\n",
        "  def __init__(self, layers, function = 'relu', prediction_type = 'classification'):\n",
        "    # regression\n",
        "    self.net = [[NetNode() for _ in range(size)] for size in layers]\n",
        "    self.function = function\n",
        "    self.prediction_type = prediction_type\n",
        "    sizes = len(layers)\n",
        "\n",
        "    for layer in range(1,sizes):\n",
        "      for node in self.net[layer]:\n",
        "        for unit in self.net[layer - 1]:\n",
        "          node.inputs.append(unit)\n",
        "          node.weights.append(0)\n",
        "        node.weights = [np.random.uniform() for _ in range(len(node.weights))]\n",
        "\n",
        "  def backpropagation(self, eta, examples, epochs):\n",
        "        inputs = self.net[0]\n",
        "        outputs = self.net[-1]\n",
        "        layer_size = len(self.net)\n",
        "        '''\n",
        "        for layer in self.net[1:]:\n",
        "            for node in layer:\n",
        "                node.weights = [np.random.uniform() for _ in range(len(node.weights))]\n",
        "        '''\n",
        "        for epoch in range(epochs):\n",
        "            for x_train, y_train in examples:\n",
        "                for value, node in zip(x_train, inputs):\n",
        "                    node.value = value\n",
        "                for layer in self.net[1:]:\n",
        "                    for node in layer:\n",
        "                        in_val = [n.value for n in node.inputs]\n",
        "                        unit_value = np.dot(in_val, node.weights)\n",
        "                        if self.function == 'sigmoid':\n",
        "                          node.value = self.sigmoide(unit_value)\n",
        "                        else:\n",
        "                          node.value = self.relu(unit_value)\n",
        "                delta = [[] for _ in range(layer_size)]\n",
        "                err = [y_train[i] - outputs[i].value for i in range(len(outputs))]\n",
        "                if self.function == 'sigmoid':\n",
        "                  delta[-1] = [self.sigmoide_prime(outputs[i].value) * err[i] for i in range(len(outputs))]\n",
        "                else:\n",
        "                  delta[-1] = [self.relu_prime(outputs[i].value) * err[i] for i in range(len(outputs))]\n",
        "                hidden_layers = layer_size - 2\n",
        "                for i in range(hidden_layers, 0, -1):\n",
        "                    layer = self.net[i]\n",
        "                    n_layers = len(layer)\n",
        "                    w = [[node.weights[l] for node in self.net[i + 1]] for l in range(n_layers)]\n",
        "                    if self.function == 'sigmoid':\n",
        "                      delta[i] = [self.sigmoide_prime(layer[j].value) * np.dot(w[j], delta[i + 1]) for j in range(n_layers)]\n",
        "                    else:\n",
        "                      delta[i] = [self.relu_prime(layer[j].value) * np.dot(w[j], delta[i + 1]) for j in range(n_layers)]\n",
        "                for i in range(1, layer_size):\n",
        "                    layer = self.net[i]\n",
        "                    in_val = [node.value for node in self.net[i - 1]]\n",
        "                    n_layers = len(self.net[i])\n",
        "                    for j in range(n_layers):\n",
        "                        layer[j].weights = np.add(layer[j].weights, np.multiply(eta * delta[i][j], in_val))\n",
        "            # print(f\"epoch {epoch}/{epochs} | total error={np.sum(err)/len(examples)}\")\n",
        "    \n",
        "  def predict(self,input_data):\n",
        "    inputs = self.net[0]\n",
        "\n",
        "    for v, n in zip(input_data, inputs):\n",
        "      n.value = v\n",
        "\n",
        "    for layer in self.net[1:]:\n",
        "      for node in layer:\n",
        "        in_val = [n.value for n in node.inputs]\n",
        "        unit_value = np.dot(in_val, node.weights)\n",
        "        if self.function == 'sigmoid':\n",
        "          node.value = self.sigmoide(unit_value)\n",
        "        else:\n",
        "          node.value = self.relu(unit_value)\n",
        "    \n",
        "    outputs = self.net[-1]\n",
        "    if self.prediction_type == 'regression':\n",
        "      return outputs\n",
        "    else:\n",
        "      return outputs.index(max(outputs, key=lambda node: node.value))\n",
        "  def accuracy(self, examples):\n",
        "    correct = 0\n",
        "    for x_test, y_test in examples:\n",
        "      prediction = self.predict(x_test)\n",
        "\n",
        "      if(y_test[prediction] == 1):\n",
        "        correct += 1\n",
        "    return correct / len(examples)\n",
        "\n",
        "  def relu(self,z):\n",
        "    return max(0,z)\n",
        "\n",
        "  def relu_prime(self, z):\n",
        "    return 1 if z > 0 else 0\n",
        "\n",
        "  def sigmoide(self, z):\n",
        "    return 1/(1 + np.exp(-z))\n",
        "\n",
        "  def sigmoide_prime(self, z):\n",
        "    return z * (1 - z)\n",
        "  \n",
        "  def set_weights(self, layers):\n",
        "    try:\n",
        "      index = 0\n",
        "      for layer in self.net:\n",
        "        for node in layer:\n",
        "          node.weights = layers[index]\n",
        "          index += 1\n",
        "    except:\n",
        "      print(\"An exception occurred\")\n",
        "\n",
        "  def weights(self):\n",
        "    weights = []\n",
        "    if self.net != None:\n",
        "      for layer in self.net:\n",
        "        for node in layer:\n",
        "          weights.append(node.weights)\n",
        "    return weights\n",
        "  "
      ],
      "metadata": {
        "id": "UgYrLHTQJLKK"
      },
      "execution_count": null,
      "outputs": []
    },
    {
      "cell_type": "code",
      "source": [
        "iris_X,iris_y = datasets.load_iris(return_X_y = True)"
      ],
      "metadata": {
        "id": "7LEu41M7bu9U"
      },
      "execution_count": null,
      "outputs": []
    },
    {
      "cell_type": "code",
      "source": [
        "iris_X[:10]"
      ],
      "metadata": {
        "colab": {
          "base_uri": "https://localhost:8080/"
        },
        "id": "j8z3ZjeEdASn",
        "outputId": "d04cd9e7-e061-4d49-bfcd-231f473417ad"
      },
      "execution_count": null,
      "outputs": [
        {
          "output_type": "execute_result",
          "data": {
            "text/plain": [
              "array([[5.1, 3.5, 1.4, 0.2],\n",
              "       [4.9, 3. , 1.4, 0.2],\n",
              "       [4.7, 3.2, 1.3, 0.2],\n",
              "       [4.6, 3.1, 1.5, 0.2],\n",
              "       [5. , 3.6, 1.4, 0.2],\n",
              "       [5.4, 3.9, 1.7, 0.4],\n",
              "       [4.6, 3.4, 1.4, 0.3],\n",
              "       [5. , 3.4, 1.5, 0.2],\n",
              "       [4.4, 2.9, 1.4, 0.2],\n",
              "       [4.9, 3.1, 1.5, 0.1]])"
            ]
          },
          "metadata": {},
          "execution_count": 314
        }
      ]
    },
    {
      "cell_type": "code",
      "source": [
        "iris_y[:10]"
      ],
      "metadata": {
        "colab": {
          "base_uri": "https://localhost:8080/"
        },
        "id": "FxH5a1R_dDGs",
        "outputId": "56909b5b-0b81-4ea8-b421-449aae6c7451"
      },
      "execution_count": null,
      "outputs": [
        {
          "output_type": "execute_result",
          "data": {
            "text/plain": [
              "array([0, 0, 0, 0, 0, 0, 0, 0, 0, 0])"
            ]
          },
          "metadata": {},
          "execution_count": 315
        }
      ]
    },
    {
      "cell_type": "code",
      "source": [
        "iris_x_normalized = normalize(iris_X,axis=0)\n",
        "iris_x_normalized[:10]"
      ],
      "metadata": {
        "colab": {
          "base_uri": "https://localhost:8080/"
        },
        "id": "-rD-r1gYdK6t",
        "outputId": "3d4ac12a-1c7b-4cb8-c154-3842c678abac"
      },
      "execution_count": null,
      "outputs": [
        {
          "output_type": "execute_result",
          "data": {
            "text/plain": [
              "array([[0.07056264, 0.09254209, 0.02754801, 0.01150242],\n",
              "       [0.06779548, 0.07932179, 0.02754801, 0.01150242],\n",
              "       [0.06502832, 0.08460991, 0.02558029, 0.01150242],\n",
              "       [0.06364474, 0.08196585, 0.02951572, 0.01150242],\n",
              "       [0.06917906, 0.09518615, 0.02754801, 0.01150242],\n",
              "       [0.07471338, 0.10311833, 0.03345115, 0.02300485],\n",
              "       [0.06364474, 0.08989803, 0.02754801, 0.01725364],\n",
              "       [0.06917906, 0.08989803, 0.02951572, 0.01150242],\n",
              "       [0.06087757, 0.07667773, 0.02754801, 0.01150242],\n",
              "       [0.06779548, 0.08196585, 0.02951572, 0.00575121]])"
            ]
          },
          "metadata": {},
          "execution_count": 316
        }
      ]
    },
    {
      "cell_type": "code",
      "source": [
        "X_train, X_test, y_train, y_test = train_test_split(iris_x_normalized,iris_y,test_size=0.2, shuffle=True)"
      ],
      "metadata": {
        "id": "XLrdJ6ezdkxd"
      },
      "execution_count": null,
      "outputs": []
    },
    {
      "cell_type": "code",
      "source": [
        "y_train = np_utils.to_categorical(y_train,num_classes=3)\n",
        "y_test = np_utils.to_categorical(y_test,num_classes=3)"
      ],
      "metadata": {
        "id": "Qk-FaEbOd542"
      },
      "execution_count": null,
      "outputs": []
    },
    {
      "cell_type": "code",
      "source": [
        "examples = []\n",
        "for i in range(len(X_train)):\n",
        "  examples.append([X_train[i],y_train[i]])"
      ],
      "metadata": {
        "id": "anJvHhgIeLzx"
      },
      "execution_count": null,
      "outputs": []
    },
    {
      "cell_type": "code",
      "source": [
        "net = Network([4,7,3])"
      ],
      "metadata": {
        "id": "xdbXxO8Xi2VL"
      },
      "execution_count": null,
      "outputs": []
    },
    {
      "cell_type": "code",
      "source": [
        "net.weights()"
      ],
      "metadata": {
        "colab": {
          "base_uri": "https://localhost:8080/"
        },
        "id": "f2R7upoDYAUn",
        "outputId": "0e18284a-78ee-4265-c835-f04722ac9625"
      },
      "execution_count": null,
      "outputs": [
        {
          "output_type": "execute_result",
          "data": {
            "text/plain": [
              "[[],\n",
              " [],\n",
              " [],\n",
              " [],\n",
              " [0.2819148059916814,\n",
              "  0.4762099994579905,\n",
              "  0.03891883892502079,\n",
              "  0.8643636294309746],\n",
              " [0.5852459149057281,\n",
              "  0.3018587450045592,\n",
              "  0.5423861654492995,\n",
              "  0.495178596795549],\n",
              " [0.30657533373434653,\n",
              "  0.0016214139640438052,\n",
              "  0.8389777738236476,\n",
              "  0.7408010274358283],\n",
              " [0.7761926749624963,\n",
              "  0.07179016565757701,\n",
              "  0.3472570645124383,\n",
              "  0.57544773570609],\n",
              " [0.7398565081582099,\n",
              "  0.1947228195252544,\n",
              "  0.1270063110469215,\n",
              "  0.8119759304795575],\n",
              " [0.6407442103975245,\n",
              "  0.6586297228750108,\n",
              "  0.5669002923472392,\n",
              "  0.23620789464166025],\n",
              " [0.7195395258884627,\n",
              "  0.5792360111260989,\n",
              "  0.9952352694921137,\n",
              "  0.8311453993498296],\n",
              " [0.376585622962921,\n",
              "  0.3239979987476642,\n",
              "  0.17458414167730318,\n",
              "  0.17216017126740646,\n",
              "  0.24874311318199493,\n",
              "  0.9968088341676081,\n",
              "  0.24284946076675817],\n",
              " [0.48640867657489095,\n",
              "  0.5791384854279996,\n",
              "  0.6775169374494869,\n",
              "  0.7144615212322427,\n",
              "  0.7706174506951905,\n",
              "  0.9164340441888907,\n",
              "  0.2717327353718537],\n",
              " [0.3403967847083579,\n",
              "  0.8056988709671348,\n",
              "  0.3758478175367519,\n",
              "  0.37711529456163195,\n",
              "  0.8173967782216414,\n",
              "  0.8316790465597795,\n",
              "  0.8638044001301967]]"
            ]
          },
          "metadata": {},
          "execution_count": 321
        }
      ]
    },
    {
      "cell_type": "code",
      "source": [
        "layers_weights = [\n",
        "    # Layer 0\n",
        "    [],\n",
        "    [],\n",
        "    [],\n",
        "    [],\n",
        "    # Layer 1\n",
        "    [ 0.1, -0.1 ,  0.1,  1.1 ],\n",
        "    [0.1, 0.1, 1.1, 1.1],\n",
        "    [ 0.1,  0.1, -0.1,  0.1 ],\n",
        "    [-0.1, -0.1, -0.1,  0.1],\n",
        "    [ 0.1,  1.1,  0.1, -1.1],\n",
        "    [ 1.1,  1.1, -0.1, -1.1],\n",
        "    [ 0.1,  1.1, -0.1,  0.1],\n",
        "    # Layer 2\n",
        "    [-0.1 , -0.1,  0.1,  0.1,  1.1, 2.1,  0.1],\n",
        "    [ 0.1,  0.1,  0.1,  0.1,  0.1, 0.1 , -0.1],\n",
        "    [ 1.1,  0.1,  0.1,  0.1, -0.1, -0.1, -0.1]\n",
        "]\n",
        "net.set_weights(layers_weights)\n",
        "net.weights()"
      ],
      "metadata": {
        "colab": {
          "base_uri": "https://localhost:8080/"
        },
        "id": "dpGkWYvhdYwB",
        "outputId": "51d19077-ae83-4ca2-9fd5-7926c87fbe11"
      },
      "execution_count": null,
      "outputs": [
        {
          "output_type": "execute_result",
          "data": {
            "text/plain": [
              "[[],\n",
              " [],\n",
              " [],\n",
              " [],\n",
              " [0.1, -0.1, 0.1, 1.1],\n",
              " [0.1, 0.1, 1.1, 1.1],\n",
              " [0.1, 0.1, -0.1, 0.1],\n",
              " [-0.1, -0.1, -0.1, 0.1],\n",
              " [0.1, 1.1, 0.1, -1.1],\n",
              " [1.1, 1.1, -0.1, -1.1],\n",
              " [0.1, 1.1, -0.1, 0.1],\n",
              " [-0.1, -0.1, 0.1, 0.1, 1.1, 2.1, 0.1],\n",
              " [0.1, 0.1, 0.1, 0.1, 0.1, 0.1, -0.1],\n",
              " [1.1, 0.1, 0.1, 0.1, -0.1, -0.1, -0.1]]"
            ]
          },
          "metadata": {},
          "execution_count": 322
        }
      ]
    },
    {
      "cell_type": "code",
      "source": [
        "net.backpropagation(0.03,examples,100)"
      ],
      "metadata": {
        "id": "Qkz50qAUi_GU"
      },
      "execution_count": null,
      "outputs": []
    },
    {
      "cell_type": "code",
      "source": [
        "examples = []\n",
        "for i in range(len(X_test)):\n",
        "  examples.append([X_test[i],y_test[i]])"
      ],
      "metadata": {
        "id": "wB5A0luOu6aT"
      },
      "execution_count": null,
      "outputs": []
    },
    {
      "cell_type": "code",
      "source": [
        "prediction = net.predict(X_test[0])\n",
        "accuracy = net.accuracy(examples)\n",
        "\n",
        "print(f\"Accuracy:  {accuracy}\")\n",
        "print(f\"Desired output:  {y_test[0]}\")\n",
        "print(f\"Index of output:  {prediction}\")"
      ],
      "metadata": {
        "colab": {
          "base_uri": "https://localhost:8080/"
        },
        "id": "se7xehB4jOFn",
        "outputId": "803c690b-0675-4f54-d252-71bf807a229c"
      },
      "execution_count": null,
      "outputs": [
        {
          "output_type": "stream",
          "name": "stdout",
          "text": [
            "Accuracy:  0.9666666666666667\n",
            "Desired output:  [1. 0. 0.]\n",
            "Index of output:  0\n"
          ]
        }
      ]
    },
    {
      "cell_type": "code",
      "source": [
        "net.weights()"
      ],
      "metadata": {
        "colab": {
          "base_uri": "https://localhost:8080/"
        },
        "id": "irUu5rsmfzEv",
        "outputId": "5acaca46-cc2d-4efb-f379-4138f2421f2e"
      },
      "execution_count": null,
      "outputs": [
        {
          "output_type": "execute_result",
          "data": {
            "text/plain": [
              "[[],\n",
              " [],\n",
              " [],\n",
              " [],\n",
              " array([-0.13283458, -0.69871849,  0.8305343 ,  2.14311208]),\n",
              " array([ 0.22411461, -0.35561525,  1.81931643,  1.53291508]),\n",
              " array([ 0.13283531,  0.05825461, -0.03363811,  0.10037829]),\n",
              " array([-0.1, -0.1, -0.1,  0.1]),\n",
              " array([ 0.71034223,  1.84699377, -0.03060711, -1.56661056]),\n",
              " array([ 1.90998521,  2.05377802, -0.44504792, -2.08865112]),\n",
              " array([ 0.18829112,  1.2475826 , -0.22585293, -0.11703413]),\n",
              " array([-1.00863722, -1.26818609,  0.06130895,  0.1       ,  1.55979124,\n",
              "         2.72541317,  0.18509538]),\n",
              " array([ 0.26418472,  1.00079817,  0.12904298,  0.1       ,  0.13802821,\n",
              "         0.55639755, -0.17872238]),\n",
              " array([ 2.18796712,  1.03226658,  0.06000817,  0.1       , -1.63963538,\n",
              "        -2.32555092, -0.6340222 ])]"
            ]
          },
          "metadata": {},
          "execution_count": 326
        }
      ]
    },
    {
      "cell_type": "code",
      "source": [
        "#@title Prueba con sigmoid\n",
        "\n",
        "net = Network([4,7,3],function = 'sigmoid', prediction_type = 'regression')\n",
        "\n",
        "examples = []\n",
        "for i in range(len(X_train)):\n",
        "  examples.append([X_train[i],y_train[i]])\n",
        "\n",
        "net.backpropagation(0.03,examples,100)\n",
        "\n",
        "examples = []\n",
        "for i in range(len(X_test)):\n",
        "  examples.append([X_test[i],y_test[i]])\n",
        "\n",
        "prediction = net.predict(X_test[0])\n",
        "print(prediction)\n",
        "accuracy = net.accuracy(examples)\n",
        "\n",
        "print(f\"Accuracy:  {accuracy}\")\n",
        "print(f\"Desired output:  {y_test[0]}\")\n",
        "print(f\"Index of output:  {prediction}\")"
      ],
      "metadata": {
        "colab": {
          "base_uri": "https://localhost:8080/",
          "height": 373
        },
        "id": "Bs8ixFvkloiY",
        "outputId": "f4f1842a-5060-40a0-bce1-a2d9fcfc0f18"
      },
      "execution_count": null,
      "outputs": [
        {
          "output_type": "stream",
          "name": "stdout",
          "text": [
            "[<__main__.NetNode object at 0x7fc3f972f880>, <__main__.NetNode object at 0x7fc3f96f3d00>, <__main__.NetNode object at 0x7fc3f96f3ee0>]\n"
          ]
        },
        {
          "output_type": "error",
          "ename": "IndexError",
          "evalue": "ignored",
          "traceback": [
            "\u001b[0;31m---------------------------------------------------------------------------\u001b[0m",
            "\u001b[0;31mIndexError\u001b[0m                                Traceback (most recent call last)",
            "\u001b[0;32m<ipython-input-328-afcedfedb9c8>\u001b[0m in \u001b[0;36m<module>\u001b[0;34m\u001b[0m\n\u001b[1;32m     15\u001b[0m \u001b[0mprediction\u001b[0m \u001b[0;34m=\u001b[0m \u001b[0mnet\u001b[0m\u001b[0;34m.\u001b[0m\u001b[0mpredict\u001b[0m\u001b[0;34m(\u001b[0m\u001b[0mX_test\u001b[0m\u001b[0;34m[\u001b[0m\u001b[0;36m0\u001b[0m\u001b[0;34m]\u001b[0m\u001b[0;34m)\u001b[0m\u001b[0;34m\u001b[0m\u001b[0;34m\u001b[0m\u001b[0m\n\u001b[1;32m     16\u001b[0m \u001b[0mprint\u001b[0m\u001b[0;34m(\u001b[0m\u001b[0mprediction\u001b[0m\u001b[0;34m)\u001b[0m\u001b[0;34m\u001b[0m\u001b[0;34m\u001b[0m\u001b[0m\n\u001b[0;32m---> 17\u001b[0;31m \u001b[0maccuracy\u001b[0m \u001b[0;34m=\u001b[0m \u001b[0mnet\u001b[0m\u001b[0;34m.\u001b[0m\u001b[0maccuracy\u001b[0m\u001b[0;34m(\u001b[0m\u001b[0mexamples\u001b[0m\u001b[0;34m)\u001b[0m\u001b[0;34m\u001b[0m\u001b[0;34m\u001b[0m\u001b[0m\n\u001b[0m\u001b[1;32m     18\u001b[0m \u001b[0;34m\u001b[0m\u001b[0m\n\u001b[1;32m     19\u001b[0m \u001b[0mprint\u001b[0m\u001b[0;34m(\u001b[0m\u001b[0;34mf\"Accuracy:  {accuracy}\"\u001b[0m\u001b[0;34m)\u001b[0m\u001b[0;34m\u001b[0m\u001b[0;34m\u001b[0m\u001b[0m\n",
            "\u001b[0;32m<ipython-input-312-ab9fa23ca5c6>\u001b[0m in \u001b[0;36maccuracy\u001b[0;34m(self, examples)\u001b[0m\n\u001b[1;32m     90\u001b[0m       \u001b[0mprediction\u001b[0m \u001b[0;34m=\u001b[0m \u001b[0mself\u001b[0m\u001b[0;34m.\u001b[0m\u001b[0mpredict\u001b[0m\u001b[0;34m(\u001b[0m\u001b[0mx_test\u001b[0m\u001b[0;34m)\u001b[0m\u001b[0;34m\u001b[0m\u001b[0;34m\u001b[0m\u001b[0m\n\u001b[1;32m     91\u001b[0m \u001b[0;34m\u001b[0m\u001b[0m\n\u001b[0;32m---> 92\u001b[0;31m       \u001b[0;32mif\u001b[0m\u001b[0;34m(\u001b[0m\u001b[0my_test\u001b[0m\u001b[0;34m[\u001b[0m\u001b[0mprediction\u001b[0m\u001b[0;34m]\u001b[0m \u001b[0;34m==\u001b[0m \u001b[0;36m1\u001b[0m\u001b[0;34m)\u001b[0m\u001b[0;34m:\u001b[0m\u001b[0;34m\u001b[0m\u001b[0;34m\u001b[0m\u001b[0m\n\u001b[0m\u001b[1;32m     93\u001b[0m         \u001b[0mcorrect\u001b[0m \u001b[0;34m+=\u001b[0m \u001b[0;36m1\u001b[0m\u001b[0;34m\u001b[0m\u001b[0;34m\u001b[0m\u001b[0m\n\u001b[1;32m     94\u001b[0m     \u001b[0;32mreturn\u001b[0m \u001b[0mcorrect\u001b[0m \u001b[0;34m/\u001b[0m \u001b[0mlen\u001b[0m\u001b[0;34m(\u001b[0m\u001b[0mexamples\u001b[0m\u001b[0;34m)\u001b[0m\u001b[0;34m\u001b[0m\u001b[0;34m\u001b[0m\u001b[0m\n",
            "\u001b[0;31mIndexError\u001b[0m: only integers, slices (`:`), ellipsis (`...`), numpy.newaxis (`None`) and integer or boolean arrays are valid indices"
          ]
        }
      ]
    }
  ]
}