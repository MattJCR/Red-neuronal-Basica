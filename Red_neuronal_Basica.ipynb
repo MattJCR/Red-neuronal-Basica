{
  "nbformat": 4,
  "nbformat_minor": 0,
  "metadata": {
    "colab": {
      "provenance": [],
      "authorship_tag": "ABX9TyNGe7dMn0KxEWtXFYNDesg+",
      "include_colab_link": true
    },
    "kernelspec": {
      "name": "python3",
      "display_name": "Python 3"
    },
    "language_info": {
      "name": "python"
    }
  },
  "cells": [
    {
      "cell_type": "markdown",
      "metadata": {
        "id": "view-in-github",
        "colab_type": "text"
      },
      "source": [
        "<a href=\"https://colab.research.google.com/github/MattJCR/Red-neuronal-Basica/blob/master/Red_neuronal_Basica.ipynb\" target=\"_parent\"><img src=\"https://colab.research.google.com/assets/colab-badge.svg\" alt=\"Open In Colab\"/></a>"
      ]
    },
    {
      "cell_type": "code",
      "execution_count": 29,
      "metadata": {
        "id": "pekAohjRF_js"
      },
      "outputs": [],
      "source": [
        "import numpy as np\n",
        "from sklearn import datasets\n",
        "from sklearn.preprocessing import normalize\n",
        "from sklearn.model_selection import train_test_split\n",
        "from keras.utils import np_utils"
      ]
    },
    {
      "cell_type": "markdown",
      "source": [
        "## Modificación de la implementación de la red neuronal\n",
        "\n",
        "* Agrega el método weigths() a la clase Network, de tal forma que permita obtener los pesos de las neuronas\n",
        "\n",
        "* Agrega el método set_weights() a la clase Network, de tal forma que permite definir los pesos de las neuronas\n",
        "     \n",
        "\n",
        "* Agrega los métodos sigmoide() y sigmoide_prime() a la clase Network\n",
        "\n",
        "* Modifica la clase Network, para que se pueda decidir qué función de activación utilizar: relu() o sigmoide()\n",
        "     \n",
        "\n",
        "* Los métodos predict() y accuracy() de la clase Network están implementados para resolver problemas de clasificación\n",
        "\n",
        "* Modifícalos de tal manera que también se puedan utilizar con problemas de regresión\n",
        "     \n",
        "\n",
        "* Modifica el método backpropagation() de tal manera que devuelva como resultado el array de valores de los nodos durante las épocas de entrenamiento\n",
        "     \n",
        "\n",
        "* Una vez implementados los cambios, entrena la red neuronal del ejemplo de los apuntes\n",
        "```\n",
        "examples = []\n",
        "examples.append([[0.5, 0.67, 0.5], [0.25, 0.6]])\n",
        "```\n",
        "\n",
        "* Ejecuta la red neuronal para los datos de ejemplo de los apuntes\n",
        "\n",
        "* Comprueba los valores de los nodos y de los pesos\n",
        "\n",
        "* Los valores de los nodos tienen que ser los mismos que los de los apuntes\n",
        "\n",
        "* Los valores de los pesos son ligeramente diferentes, ¿por qué?\n",
        "\n",
        "```\n",
        "net = Network([3, 4, 2])\n",
        "\n",
        "net.set_weights([0.1, 0.2, 0.3, 0.4, 0.5, 0.6])\n",
        "```\n",
        "\n",
        "o\n",
        "\n",
        "```\n",
        "net.set_weights([[0.1, 0.1, 0.1], [0.2, 0.2, 0.2], [0.3, 0.3, 0.3], [0.4, 0.4, 0.4], [0.5, 0.5, 0.5, 0.5], [0.6, 0.6, 0.6, 0.6]])\n",
        "\n",
        "valores_nodos = net.backpropagation(0.9, examples, 1)\n",
        "\n",
        "print(valores_nodos)\n",
        "net.weights()\n",
        "```"
      ],
      "metadata": {
        "id": "qiGTtzO9VnJK"
      }
    },
    {
      "cell_type": "code",
      "source": [
        "class NetNode(object):\n",
        "  def __init__(self):\n",
        "    self.inputs = []\n",
        "    self.weights = []\n",
        "    self.value = None\n",
        "\n",
        "class Network(object):\n",
        "\n",
        "  def __init__(self, layers, function = 'relu', prediction_type = 'classification'):\n",
        "    # regression\n",
        "    self.net = [[NetNode() for _ in range(size)] for size in layers]\n",
        "    self.function = function\n",
        "    self.prediction_type = prediction_type\n",
        "    sizes = len(layers)\n",
        "\n",
        "    for layer in range(1,sizes):\n",
        "      for node in self.net[layer]:\n",
        "        for unit in self.net[layer - 1]:\n",
        "          node.inputs.append(unit)\n",
        "          node.weights.append(0)\n",
        "        node.weights = [np.random.uniform() for _ in range(len(node.weights))]\n",
        "\n",
        "  def backpropagation(self, eta, examples, epochs):\n",
        "        inputs = self.net[0]\n",
        "        outputs = self.net[-1]\n",
        "        layer_size = len(self.net)\n",
        "        '''\n",
        "        for layer in self.net[1:]:\n",
        "            for node in layer:\n",
        "                node.weights = [np.random.uniform() for _ in range(len(node.weights))]\n",
        "        '''\n",
        "        for epoch in range(epochs):\n",
        "            for x_train, y_train in examples:\n",
        "                for value, node in zip(x_train, inputs):\n",
        "                    node.value = value\n",
        "                for layer in self.net[1:]:\n",
        "                    for node in layer:\n",
        "                        in_val = [n.value for n in node.inputs]\n",
        "                        unit_value = np.dot(in_val, node.weights)\n",
        "                        if self.function == 'sigmoid':\n",
        "                          node.value = self.sigmoide(unit_value)\n",
        "                        else:\n",
        "                          node.value = self.relu(unit_value)\n",
        "                delta = [[] for _ in range(layer_size)]\n",
        "                err = [y_train[i] - outputs[i].value for i in range(len(outputs))]\n",
        "                if self.function == 'sigmoid':\n",
        "                  delta[-1] = [self.sigmoide_prime(outputs[i].value) * err[i] for i in range(len(outputs))]\n",
        "                else:\n",
        "                  delta[-1] = [self.relu_prime(outputs[i].value) * err[i] for i in range(len(outputs))]\n",
        "                hidden_layers = layer_size - 2\n",
        "                for i in range(hidden_layers, 0, -1):\n",
        "                    layer = self.net[i]\n",
        "                    n_layers = len(layer)\n",
        "                    w = [[node.weights[l] for node in self.net[i + 1]] for l in range(n_layers)]\n",
        "                    if self.function == 'sigmoid':\n",
        "                      delta[i] = [self.sigmoide_prime(layer[j].value) * np.dot(w[j], delta[i + 1]) for j in range(n_layers)]\n",
        "                    else:\n",
        "                      delta[i] = [self.relu_prime(layer[j].value) * np.dot(w[j], delta[i + 1]) for j in range(n_layers)]\n",
        "                for i in range(1, layer_size):\n",
        "                    layer = self.net[i]\n",
        "                    in_val = [node.value for node in self.net[i - 1]]\n",
        "                    n_layers = len(self.net[i])\n",
        "                    for j in range(n_layers):\n",
        "                        layer[j].weights = np.add(layer[j].weights, np.multiply(eta * delta[i][j], in_val))\n",
        "            # print(f\"epoch {epoch}/{epochs} | total error={np.sum(err)/len(examples)}\")\n",
        "  def predict(self,input_data):\n",
        "    inputs = self.net[0]\n",
        "\n",
        "    for v, n in zip(input_data, inputs):\n",
        "      n.value = v\n",
        "\n",
        "    for layer in self.net[1:]:\n",
        "      for node in layer:\n",
        "        in_val = [n.value for n in node.inputs]\n",
        "        unit_value = np.dot(in_val, node.weights)\n",
        "        if self.function == 'sigmoid':\n",
        "          node.value = self.sigmoide(unit_value)\n",
        "        else:\n",
        "          node.value = self.relu(unit_value)\n",
        "    \n",
        "    outputs = self.net[-1]\n",
        "    if self.prediction_type == 'regression':\n",
        "      return [node.value for node in outputs]\n",
        "    else:\n",
        "      return outputs.index(max(outputs, key=lambda node: node.value))\n",
        "\n",
        "  def accuracy(self, examples):\n",
        "      if self.prediction_type == 'regression':\n",
        "        error = 0\n",
        "        for x_test, y_test in examples:\n",
        "          prediction = self.predict(x_test)\n",
        "          error += (prediction[0] - y_test[0])**2\n",
        "        return error / len(examples)\n",
        "      else:\n",
        "        correct = 0\n",
        "        for x_test, y_test in examples:\n",
        "          prediction = self.predict(x_test)\n",
        "\n",
        "          if(y_test[prediction] == 1):\n",
        "            correct += 1\n",
        "        return correct / len(examples)\n",
        "  def relu(self,z):\n",
        "    return max(0,z)\n",
        "\n",
        "  def relu_prime(self, z):\n",
        "    return 1 if z > 0 else 0\n",
        "\n",
        "  def sigmoide(self, z):\n",
        "    return 1/(1 + np.exp(-z))\n",
        "\n",
        "  def sigmoide_prime(self, z):\n",
        "    return z * (1 - z)\n",
        "  \n",
        "  def set_weights(self, layers):\n",
        "    try:\n",
        "      index = 0\n",
        "      for layer in self.net:\n",
        "        for node in layer:\n",
        "          node.weights = layers[index]\n",
        "          index += 1\n",
        "    except:\n",
        "      print(\"An exception occurred\")\n",
        "\n",
        "  def weights(self):\n",
        "    weights = []\n",
        "    if self.net != None:\n",
        "      for layer in self.net:\n",
        "        for node in layer:\n",
        "          weights.append(node.weights)\n",
        "    return weights\n",
        "  "
      ],
      "metadata": {
        "id": "UgYrLHTQJLKK"
      },
      "execution_count": 30,
      "outputs": []
    },
    {
      "cell_type": "code",
      "source": [
        "iris_X,iris_y = datasets.load_iris(return_X_y = True)"
      ],
      "metadata": {
        "id": "7LEu41M7bu9U"
      },
      "execution_count": 31,
      "outputs": []
    },
    {
      "cell_type": "code",
      "source": [
        "iris_X[:10]"
      ],
      "metadata": {
        "colab": {
          "base_uri": "https://localhost:8080/"
        },
        "id": "j8z3ZjeEdASn",
        "outputId": "b34fc260-5c70-4c8b-8e45-f30bf9c3f9ec"
      },
      "execution_count": 32,
      "outputs": [
        {
          "output_type": "execute_result",
          "data": {
            "text/plain": [
              "array([[5.1, 3.5, 1.4, 0.2],\n",
              "       [4.9, 3. , 1.4, 0.2],\n",
              "       [4.7, 3.2, 1.3, 0.2],\n",
              "       [4.6, 3.1, 1.5, 0.2],\n",
              "       [5. , 3.6, 1.4, 0.2],\n",
              "       [5.4, 3.9, 1.7, 0.4],\n",
              "       [4.6, 3.4, 1.4, 0.3],\n",
              "       [5. , 3.4, 1.5, 0.2],\n",
              "       [4.4, 2.9, 1.4, 0.2],\n",
              "       [4.9, 3.1, 1.5, 0.1]])"
            ]
          },
          "metadata": {},
          "execution_count": 32
        }
      ]
    },
    {
      "cell_type": "code",
      "source": [
        "iris_y[:10]"
      ],
      "metadata": {
        "colab": {
          "base_uri": "https://localhost:8080/"
        },
        "id": "FxH5a1R_dDGs",
        "outputId": "295187ff-cde3-488f-fd43-87112384be93"
      },
      "execution_count": 33,
      "outputs": [
        {
          "output_type": "execute_result",
          "data": {
            "text/plain": [
              "array([0, 0, 0, 0, 0, 0, 0, 0, 0, 0])"
            ]
          },
          "metadata": {},
          "execution_count": 33
        }
      ]
    },
    {
      "cell_type": "code",
      "source": [
        "iris_x_normalized = normalize(iris_X,axis=0)\n",
        "iris_x_normalized[:10]"
      ],
      "metadata": {
        "colab": {
          "base_uri": "https://localhost:8080/"
        },
        "id": "-rD-r1gYdK6t",
        "outputId": "f8908b65-ad03-4c9d-f687-87c0b91a2dee"
      },
      "execution_count": 34,
      "outputs": [
        {
          "output_type": "execute_result",
          "data": {
            "text/plain": [
              "array([[0.07056264, 0.09254209, 0.02754801, 0.01150242],\n",
              "       [0.06779548, 0.07932179, 0.02754801, 0.01150242],\n",
              "       [0.06502832, 0.08460991, 0.02558029, 0.01150242],\n",
              "       [0.06364474, 0.08196585, 0.02951572, 0.01150242],\n",
              "       [0.06917906, 0.09518615, 0.02754801, 0.01150242],\n",
              "       [0.07471338, 0.10311833, 0.03345115, 0.02300485],\n",
              "       [0.06364474, 0.08989803, 0.02754801, 0.01725364],\n",
              "       [0.06917906, 0.08989803, 0.02951572, 0.01150242],\n",
              "       [0.06087757, 0.07667773, 0.02754801, 0.01150242],\n",
              "       [0.06779548, 0.08196585, 0.02951572, 0.00575121]])"
            ]
          },
          "metadata": {},
          "execution_count": 34
        }
      ]
    },
    {
      "cell_type": "code",
      "source": [
        "X_train, X_test, y_train, y_test = train_test_split(iris_x_normalized,iris_y,test_size=0.2, shuffle=True)"
      ],
      "metadata": {
        "id": "XLrdJ6ezdkxd"
      },
      "execution_count": 35,
      "outputs": []
    },
    {
      "cell_type": "code",
      "source": [
        "y_train = np_utils.to_categorical(y_train,num_classes=3)\n",
        "y_test = np_utils.to_categorical(y_test,num_classes=3)"
      ],
      "metadata": {
        "id": "Qk-FaEbOd542"
      },
      "execution_count": 36,
      "outputs": []
    },
    {
      "cell_type": "code",
      "source": [
        "examples = []\n",
        "for i in range(len(X_train)):\n",
        "  examples.append([X_train[i],y_train[i]])"
      ],
      "metadata": {
        "id": "anJvHhgIeLzx"
      },
      "execution_count": 37,
      "outputs": []
    },
    {
      "cell_type": "code",
      "source": [
        "net = Network([4,7,3])"
      ],
      "metadata": {
        "id": "xdbXxO8Xi2VL"
      },
      "execution_count": 38,
      "outputs": []
    },
    {
      "cell_type": "code",
      "source": [
        "net.weights()"
      ],
      "metadata": {
        "colab": {
          "base_uri": "https://localhost:8080/"
        },
        "id": "f2R7upoDYAUn",
        "outputId": "6ac641a0-8c2f-4161-f12d-2fb31258e0b3"
      },
      "execution_count": 39,
      "outputs": [
        {
          "output_type": "execute_result",
          "data": {
            "text/plain": [
              "[[],\n",
              " [],\n",
              " [],\n",
              " [],\n",
              " [0.3036454168515097,\n",
              "  0.9842437185428755,\n",
              "  0.1393690131584675,\n",
              "  0.6673635286107676],\n",
              " [0.2451757176210052,\n",
              "  0.4244585368013345,\n",
              "  0.8277995345412228,\n",
              "  0.36227020119657627],\n",
              " [0.963924307893148,\n",
              "  0.5767662639581619,\n",
              "  0.04172308141090941,\n",
              "  0.7298507276115839],\n",
              " [0.8370851836073955,\n",
              "  0.9607738374194411,\n",
              "  0.48031361294660935,\n",
              "  0.5590488170969561],\n",
              " [0.6543906078051084,\n",
              "  0.03671378020861338,\n",
              "  0.020726670073533238,\n",
              "  0.3937710130041049],\n",
              " [0.7084118889197618,\n",
              "  0.24477363841048805,\n",
              "  0.5707323847348281,\n",
              "  0.38921288176250324],\n",
              " [0.3294425990307901,\n",
              "  0.44319121087031,\n",
              "  0.2488214893247752,\n",
              "  0.30860383019357596],\n",
              " [0.4246957712662671,\n",
              "  0.34724577566282644,\n",
              "  0.9647905253112153,\n",
              "  0.4155347167918704,\n",
              "  0.39582609663894053,\n",
              "  0.5725532632930269,\n",
              "  0.916031978956715],\n",
              " [0.250471950864405,\n",
              "  0.6036069391512584,\n",
              "  0.30999361099377565,\n",
              "  0.8185221138956127,\n",
              "  0.7349230754276986,\n",
              "  0.7987742050433763,\n",
              "  0.06255354727791806],\n",
              " [0.41565027982033076,\n",
              "  0.6949428589761553,\n",
              "  0.2905915844273712,\n",
              "  0.8904386354617162,\n",
              "  0.3945943131236973,\n",
              "  0.593299215065107,\n",
              "  0.7139457365675422]]"
            ]
          },
          "metadata": {},
          "execution_count": 39
        }
      ]
    },
    {
      "cell_type": "code",
      "source": [
        "layers_weights = [\n",
        "    # Layer 0\n",
        "    [],\n",
        "    [],\n",
        "    [],\n",
        "    [],\n",
        "    # Layer 1\n",
        "    [ 0.1, -0.1 ,  0.1,  1.1 ],\n",
        "    [0.1, 0.1, 1.1, 1.1],\n",
        "    [ 0.1,  0.1, -0.1,  0.1 ],\n",
        "    [-0.1, -0.1, -0.1,  0.1],\n",
        "    [ 0.1,  1.1,  0.1, -1.1],\n",
        "    [ 1.1,  1.1, -0.1, -1.1],\n",
        "    [ 0.1,  1.1, -0.1,  0.1],\n",
        "    # Layer 2\n",
        "    [-0.1 , -0.1,  0.1,  0.1,  1.1, 2.1,  0.1],\n",
        "    [ 0.1,  0.1,  0.1,  0.1,  0.1, 0.1 , -0.1],\n",
        "    [ 1.1,  0.1,  0.1,  0.1, -0.1, -0.1, -0.1]\n",
        "]\n",
        "net.set_weights(layers_weights)\n",
        "net.weights()"
      ],
      "metadata": {
        "colab": {
          "base_uri": "https://localhost:8080/"
        },
        "id": "dpGkWYvhdYwB",
        "outputId": "4b3ce1e3-c929-495c-bc1c-6da748491e7d"
      },
      "execution_count": 40,
      "outputs": [
        {
          "output_type": "execute_result",
          "data": {
            "text/plain": [
              "[[],\n",
              " [],\n",
              " [],\n",
              " [],\n",
              " [0.1, -0.1, 0.1, 1.1],\n",
              " [0.1, 0.1, 1.1, 1.1],\n",
              " [0.1, 0.1, -0.1, 0.1],\n",
              " [-0.1, -0.1, -0.1, 0.1],\n",
              " [0.1, 1.1, 0.1, -1.1],\n",
              " [1.1, 1.1, -0.1, -1.1],\n",
              " [0.1, 1.1, -0.1, 0.1],\n",
              " [-0.1, -0.1, 0.1, 0.1, 1.1, 2.1, 0.1],\n",
              " [0.1, 0.1, 0.1, 0.1, 0.1, 0.1, -0.1],\n",
              " [1.1, 0.1, 0.1, 0.1, -0.1, -0.1, -0.1]]"
            ]
          },
          "metadata": {},
          "execution_count": 40
        }
      ]
    },
    {
      "cell_type": "code",
      "source": [
        "net.backpropagation(0.03,examples,100)"
      ],
      "metadata": {
        "id": "Qkz50qAUi_GU"
      },
      "execution_count": 41,
      "outputs": []
    },
    {
      "cell_type": "code",
      "source": [
        "examples = []\n",
        "for i in range(len(X_test)):\n",
        "  examples.append([X_test[i],y_test[i]])"
      ],
      "metadata": {
        "id": "wB5A0luOu6aT"
      },
      "execution_count": 42,
      "outputs": []
    },
    {
      "cell_type": "code",
      "source": [
        "prediction = net.predict(X_test[0])\n",
        "accuracy = net.accuracy(examples)\n",
        "\n",
        "print(f\"Accuracy:  {accuracy}\")\n",
        "print(f\"Desired output:  {y_test[0]}\")\n",
        "print(f\"Index of output:  {prediction}\")"
      ],
      "metadata": {
        "colab": {
          "base_uri": "https://localhost:8080/"
        },
        "id": "se7xehB4jOFn",
        "outputId": "63486e43-6c69-4ce7-891d-f685a14aeee8"
      },
      "execution_count": 43,
      "outputs": [
        {
          "output_type": "stream",
          "name": "stdout",
          "text": [
            "Accuracy:  0.9\n",
            "Desired output:  [0. 0. 1.]\n",
            "Index of output:  2\n"
          ]
        }
      ]
    },
    {
      "cell_type": "code",
      "source": [
        "net.weights()"
      ],
      "metadata": {
        "colab": {
          "base_uri": "https://localhost:8080/"
        },
        "id": "irUu5rsmfzEv",
        "outputId": "8cf3313a-903d-4fea-cbe0-eb64f5a4e36e"
      },
      "execution_count": 44,
      "outputs": [
        {
          "output_type": "execute_result",
          "data": {
            "text/plain": [
              "[[],\n",
              " [],\n",
              " [],\n",
              " [],\n",
              " array([-0.1198556 , -0.72857823,  0.81480209,  2.13827144]),\n",
              " array([ 0.2549601 , -0.3630043 ,  1.86177166,  1.49961473]),\n",
              " array([ 0.12922693,  0.0569682 , -0.03479743,  0.10016299]),\n",
              " array([-0.1, -0.1, -0.1,  0.1]),\n",
              " array([ 0.67438446,  1.86789339, -0.05145457, -1.54884807]),\n",
              " array([ 1.8504835 ,  2.08649787, -0.479371  , -2.07163766]),\n",
              " array([ 0.18016227,  1.25368749, -0.23382216, -0.12725766]),\n",
              " array([-0.99592913, -1.28352289,  0.06410634,  0.1       ,  1.56420656,\n",
              "         2.73268852,  0.1983615 ]),\n",
              " array([ 0.20944659,  1.02691304,  0.12033936,  0.1       ,  0.09383157,\n",
              "         0.47848547, -0.19761547]),\n",
              " array([ 2.19754056,  1.02512551,  0.06610544,  0.1       , -1.63168498,\n",
              "        -2.30858044, -0.63858024])]"
            ]
          },
          "metadata": {},
          "execution_count": 44
        }
      ]
    },
    {
      "cell_type": "code",
      "source": [
        "#@title Prueba con sigmoid y regression\n",
        "\n",
        "net = Network([4,7,3],function = 'sigmoid', prediction_type = 'regression')\n",
        "\n",
        "examples = []\n",
        "for i in range(len(X_train)):\n",
        "  examples.append([X_train[i],y_train[i]])\n",
        "\n",
        "net.backpropagation(0.03,examples,100)\n",
        "\n",
        "examples = []\n",
        "for i in range(len(X_test)):\n",
        "  examples.append([X_test[i],y_test[i]])\n",
        "\n",
        "prediction = net.predict(X_test[0])\n",
        "print(prediction)\n",
        "accuracy = net.accuracy(examples)\n",
        "\n",
        "print(f\"Accuracy:  {accuracy}\")\n",
        "print(f\"Desired output:  {y_test[0]}\")\n",
        "print(f\"Index of output:  {prediction}\")"
      ],
      "metadata": {
        "colab": {
          "base_uri": "https://localhost:8080/"
        },
        "id": "Bs8ixFvkloiY",
        "outputId": "5c3ae4b3-1b50-4057-e4a7-0db6cb82e727"
      },
      "execution_count": 45,
      "outputs": [
        {
          "output_type": "stream",
          "name": "stdout",
          "text": [
            "[0.3354692287267598, 0.34024810245656495, 0.31081903456253596]\n",
            "Accuracy:  0.20759421416070237\n",
            "Desired output:  [0. 0. 1.]\n",
            "Index of output:  [0.3354692287267598, 0.34024810245656495, 0.31081903456253596]\n"
          ]
        }
      ]
    },
    {
      "cell_type": "code",
      "source": [
        "#@title Red neuronal para los datos de ejemplo de los apuntes\n",
        "\n",
        "net = Network([3,4,2],function = 'sigmoid', prediction_type = 'regression')\n",
        "net.weights()"
      ],
      "metadata": {
        "colab": {
          "base_uri": "https://localhost:8080/"
        },
        "id": "ZcDG4KGgY5wy",
        "outputId": "2c194a5f-2c86-4f7c-e194-512c70ff6377"
      },
      "execution_count": 52,
      "outputs": [
        {
          "output_type": "execute_result",
          "data": {
            "text/plain": [
              "[[],\n",
              " [],\n",
              " [],\n",
              " [0.04686426033863489, 0.1527677154410667, 0.8634589438005187],\n",
              " [0.2745680819070627, 0.6824663226959877, 0.9673424381223975],\n",
              " [0.6111650371481129, 0.0683930991294287, 0.2253336595860468],\n",
              " [0.5069473961509483, 0.8757530048649489, 0.100760238509367],\n",
              " [0.2546803264287565,\n",
              "  0.30612541702679297,\n",
              "  0.8284914555834763,\n",
              "  0.6210472962845434],\n",
              " [0.48659418232185825,\n",
              "  0.9710026472339762,\n",
              "  0.5042865474878275,\n",
              "  0.9064355426210309]]"
            ]
          },
          "metadata": {},
          "execution_count": 52
        }
      ]
    },
    {
      "cell_type": "code",
      "source": [
        "layers_weights = [\n",
        "  # L0\n",
        "  [],\n",
        "  [],\n",
        "  [],\n",
        "  # L1\n",
        "  [0.1, 0.1, 0.1],# 1\n",
        "  [0.2, 0.2, 0.2], # 2\n",
        "  [0.3, 0.3, 0.3], # 3\n",
        "  [0.4, 0.4, 0.4], # 4\n",
        "  # L2\n",
        "  [0.5, 0.5, 0.5, 0.5], # 5\n",
        "  [0.6, 0.6, 0.6, 0.6] # 6\n",
        "]\n",
        "\n",
        "net.set_weights(layers_weights)\n",
        "net.weights()"
      ],
      "metadata": {
        "colab": {
          "base_uri": "https://localhost:8080/"
        },
        "id": "otUEA6kAZPH5",
        "outputId": "b1ab447e-1e3c-49a3-be23-084a32e5fbbb"
      },
      "execution_count": 53,
      "outputs": [
        {
          "output_type": "execute_result",
          "data": {
            "text/plain": [
              "[[],\n",
              " [],\n",
              " [],\n",
              " [0.1, 0.1, 0.1],\n",
              " [0.2, 0.2, 0.2],\n",
              " [0.3, 0.3, 0.3],\n",
              " [0.4, 0.4, 0.4],\n",
              " [0.5, 0.5, 0.5, 0.5],\n",
              " [0.6, 0.6, 0.6, 0.6]]"
            ]
          },
          "metadata": {},
          "execution_count": 53
        }
      ]
    },
    {
      "cell_type": "code",
      "source": [
        "\n",
        "prediction = net.predict([0.5, 0.67, 0.5])\n",
        "print(\"Valores de predicción de los apuntes: [0.768,0.808]\")\n",
        "print(f'Valores de predicción de mi red neuronal: [{prediction[0]:.3f},{prediction[1]:.3f}]')"
      ],
      "metadata": {
        "colab": {
          "base_uri": "https://localhost:8080/"
        },
        "id": "HJZjLhETa55E",
        "outputId": "94f64688-2b62-4940-8c87-50ad0d169dcc"
      },
      "execution_count": 58,
      "outputs": [
        {
          "output_type": "stream",
          "name": "stdout",
          "text": [
            "Valores de predicción de los apuntes: [0.768,0.808]\n",
            "Valores de predicción de mi red neuronal: [0.769,0.809]\n"
          ]
        }
      ]
    }
  ]
}